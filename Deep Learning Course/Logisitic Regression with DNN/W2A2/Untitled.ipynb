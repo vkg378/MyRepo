{
 "cells": [
  {
   "cell_type": "code",
   "execution_count": 1,
   "id": "4b59c3a6",
   "metadata": {},
   "outputs": [],
   "source": [
    "import os"
   ]
  },
  {
   "cell_type": "code",
   "execution_count": 2,
   "id": "2328b7b2",
   "metadata": {},
   "outputs": [
    {
     "data": {
      "text/plain": [
       "'/Users/guptas/Documents/MyGit/MyRepo/Deep Learning Course/Logisitic Regression with DNN/W2A2'"
      ]
     },
     "execution_count": 2,
     "metadata": {},
     "output_type": "execute_result"
    }
   ],
   "source": [
    "os.getcwd()"
   ]
  },
  {
   "cell_type": "code",
   "execution_count": 3,
   "id": "8eed32f2",
   "metadata": {},
   "outputs": [],
   "source": [
    "import h5py"
   ]
  },
  {
   "cell_type": "code",
   "execution_count": 5,
   "id": "9627f0af",
   "metadata": {},
   "outputs": [],
   "source": [
    "train_dataset = h5py.File('datasets/train_catvnoncat.h5', \"r\")"
   ]
  },
  {
   "cell_type": "code",
   "execution_count": 10,
   "id": "907f8a0e",
   "metadata": {},
   "outputs": [],
   "source": [
    "import pickle\n",
    "loaded_model = pickle.load(open('logistic_NN.pkl','rb'))"
   ]
  },
  {
   "cell_type": "code",
   "execution_count": 11,
   "id": "6dbfc543",
   "metadata": {},
   "outputs": [],
   "source": [
    "test_dataset = h5py.File('datasets/test_catvnoncat.h5', \"r\")"
   ]
  },
  {
   "cell_type": "code",
   "execution_count": 12,
   "id": "296f35c8",
   "metadata": {},
   "outputs": [
    {
     "ename": "AttributeError",
     "evalue": "'dict' object has no attribute 'predict'",
     "output_type": "error",
     "traceback": [
      "\u001b[0;31m---------------------------------------------------------------------------\u001b[0m",
      "\u001b[0;31mAttributeError\u001b[0m                            Traceback (most recent call last)",
      "Cell \u001b[0;32mIn[12], line 1\u001b[0m\n\u001b[0;32m----> 1\u001b[0m predictions \u001b[38;5;241m=\u001b[39m loaded_model\u001b[38;5;241m.\u001b[39mpredict(test_dataset)\n",
      "\u001b[0;31mAttributeError\u001b[0m: 'dict' object has no attribute 'predict'"
     ]
    }
   ],
   "source": [
    "predictions = loaded_model.predict(test_dataset)"
   ]
  },
  {
   "cell_type": "code",
   "execution_count": null,
   "id": "7d6be240",
   "metadata": {},
   "outputs": [],
   "source": []
  }
 ],
 "metadata": {
  "kernelspec": {
   "display_name": "Python 3 (ipykernel)",
   "language": "python",
   "name": "python3"
  },
  "language_info": {
   "codemirror_mode": {
    "name": "ipython",
    "version": 3
   },
   "file_extension": ".py",
   "mimetype": "text/x-python",
   "name": "python",
   "nbconvert_exporter": "python",
   "pygments_lexer": "ipython3",
   "version": "3.11.5"
  }
 },
 "nbformat": 4,
 "nbformat_minor": 5
}
