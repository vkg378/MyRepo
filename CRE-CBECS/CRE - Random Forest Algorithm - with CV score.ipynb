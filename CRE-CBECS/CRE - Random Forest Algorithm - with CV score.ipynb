{
 "cells": [
  {
   "cell_type": "markdown",
   "id": "3768e0bc",
   "metadata": {},
   "source": [
    "#### This code runs Random Forest Algorithm to estimate CRE EL intensity from prepared data created using CRE Data Preparation.ipynb"
   ]
  },
  {
   "cell_type": "code",
   "execution_count": 1,
   "id": "091fa679",
   "metadata": {},
   "outputs": [],
   "source": [
    "import pandas as pd\n",
    "import numpy as np\n",
    "import re\n",
    "import matplotlib.pyplot as plt\n",
    "from sklearn.ensemble import RandomForestRegressor\n",
    "from sklearn.model_selection import train_test_split\n",
    "from sklearn.model_selection import cross_val_score\n",
    "from sklearn.metrics import r2_score"
   ]
  },
  {
   "cell_type": "code",
   "execution_count": 2,
   "id": "41d3921c",
   "metadata": {},
   "outputs": [],
   "source": [
    "data_cbecs_final = pd.read_excel('data_cbecs_final.xlsx')"
   ]
  },
  {
   "cell_type": "code",
   "execution_count": 3,
   "id": "c2a2758e",
   "metadata": {},
   "outputs": [
    {
     "data": {
      "text/html": [
       "<div>\n",
       "<style scoped>\n",
       "    .dataframe tbody tr th:only-of-type {\n",
       "        vertical-align: middle;\n",
       "    }\n",
       "\n",
       "    .dataframe tbody tr th {\n",
       "        vertical-align: top;\n",
       "    }\n",
       "\n",
       "    .dataframe thead th {\n",
       "        text-align: right;\n",
       "    }\n",
       "</style>\n",
       "<table border=\"1\" class=\"dataframe\">\n",
       "  <thead>\n",
       "    <tr style=\"text-align: right;\">\n",
       "      <th></th>\n",
       "      <th>SQFT</th>\n",
       "      <th>RFCOOL</th>\n",
       "      <th>GLSSPC</th>\n",
       "      <th>NFLOOR</th>\n",
       "      <th>FLCEILHT</th>\n",
       "      <th>ATTIC</th>\n",
       "      <th>YRCONC</th>\n",
       "      <th>RENOV</th>\n",
       "      <th>FACIL</th>\n",
       "      <th>GOVOWN</th>\n",
       "      <th>...</th>\n",
       "      <th>LNHRPC_4.0</th>\n",
       "      <th>LNHRPC_5.0</th>\n",
       "      <th>LTEXPC_1.0</th>\n",
       "      <th>LTEXPC_2.0</th>\n",
       "      <th>LTEXPC_3.0</th>\n",
       "      <th>LTEXPC_4.0</th>\n",
       "      <th>WINTYP_1</th>\n",
       "      <th>WINTYP_2</th>\n",
       "      <th>WINTYP_3</th>\n",
       "      <th>WINTYP_4</th>\n",
       "    </tr>\n",
       "  </thead>\n",
       "  <tbody>\n",
       "    <tr>\n",
       "      <th>0</th>\n",
       "      <td>210000</td>\n",
       "      <td>0</td>\n",
       "      <td>3</td>\n",
       "      <td>994</td>\n",
       "      <td>12</td>\n",
       "      <td>0</td>\n",
       "      <td>2</td>\n",
       "      <td>1.0</td>\n",
       "      <td>0</td>\n",
       "      <td>1</td>\n",
       "      <td>...</td>\n",
       "      <td>0</td>\n",
       "      <td>0</td>\n",
       "      <td>0</td>\n",
       "      <td>1</td>\n",
       "      <td>0</td>\n",
       "      <td>0</td>\n",
       "      <td>0</td>\n",
       "      <td>1</td>\n",
       "      <td>0</td>\n",
       "      <td>0</td>\n",
       "    </tr>\n",
       "    <tr>\n",
       "      <th>1</th>\n",
       "      <td>28000</td>\n",
       "      <td>1</td>\n",
       "      <td>3</td>\n",
       "      <td>5</td>\n",
       "      <td>8</td>\n",
       "      <td>0</td>\n",
       "      <td>6</td>\n",
       "      <td>1.0</td>\n",
       "      <td>1</td>\n",
       "      <td>0</td>\n",
       "      <td>...</td>\n",
       "      <td>0</td>\n",
       "      <td>0</td>\n",
       "      <td>1</td>\n",
       "      <td>0</td>\n",
       "      <td>0</td>\n",
       "      <td>0</td>\n",
       "      <td>1</td>\n",
       "      <td>0</td>\n",
       "      <td>0</td>\n",
       "      <td>0</td>\n",
       "    </tr>\n",
       "    <tr>\n",
       "      <th>2</th>\n",
       "      <td>2100</td>\n",
       "      <td>0</td>\n",
       "      <td>3</td>\n",
       "      <td>1</td>\n",
       "      <td>9</td>\n",
       "      <td>1</td>\n",
       "      <td>6</td>\n",
       "      <td>1.0</td>\n",
       "      <td>0</td>\n",
       "      <td>0</td>\n",
       "      <td>...</td>\n",
       "      <td>0</td>\n",
       "      <td>1</td>\n",
       "      <td>0</td>\n",
       "      <td>0</td>\n",
       "      <td>0</td>\n",
       "      <td>1</td>\n",
       "      <td>0</td>\n",
       "      <td>1</td>\n",
       "      <td>0</td>\n",
       "      <td>0</td>\n",
       "    </tr>\n",
       "    <tr>\n",
       "      <th>3</th>\n",
       "      <td>240000</td>\n",
       "      <td>1</td>\n",
       "      <td>2</td>\n",
       "      <td>1</td>\n",
       "      <td>25</td>\n",
       "      <td>0</td>\n",
       "      <td>9</td>\n",
       "      <td>NaN</td>\n",
       "      <td>0</td>\n",
       "      <td>0</td>\n",
       "      <td>...</td>\n",
       "      <td>0</td>\n",
       "      <td>0</td>\n",
       "      <td>0</td>\n",
       "      <td>1</td>\n",
       "      <td>0</td>\n",
       "      <td>0</td>\n",
       "      <td>0</td>\n",
       "      <td>1</td>\n",
       "      <td>0</td>\n",
       "      <td>0</td>\n",
       "    </tr>\n",
       "    <tr>\n",
       "      <th>4</th>\n",
       "      <td>295000</td>\n",
       "      <td>0</td>\n",
       "      <td>1</td>\n",
       "      <td>1</td>\n",
       "      <td>30</td>\n",
       "      <td>0</td>\n",
       "      <td>4</td>\n",
       "      <td>0.0</td>\n",
       "      <td>0</td>\n",
       "      <td>0</td>\n",
       "      <td>...</td>\n",
       "      <td>0</td>\n",
       "      <td>0</td>\n",
       "      <td>0</td>\n",
       "      <td>0</td>\n",
       "      <td>0</td>\n",
       "      <td>1</td>\n",
       "      <td>0</td>\n",
       "      <td>1</td>\n",
       "      <td>0</td>\n",
       "      <td>0</td>\n",
       "    </tr>\n",
       "  </tbody>\n",
       "</table>\n",
       "<p>5 rows × 419 columns</p>\n",
       "</div>"
      ],
      "text/plain": [
       "     SQFT  RFCOOL  GLSSPC  NFLOOR  FLCEILHT  ATTIC  YRCONC  RENOV  FACIL  \\\n",
       "0  210000       0       3     994        12      0       2    1.0      0   \n",
       "1   28000       1       3       5         8      0       6    1.0      1   \n",
       "2    2100       0       3       1         9      1       6    1.0      0   \n",
       "3  240000       1       2       1        25      0       9    NaN      0   \n",
       "4  295000       0       1       1        30      0       4    0.0      0   \n",
       "\n",
       "   GOVOWN  ...  LNHRPC_4.0  LNHRPC_5.0  LTEXPC_1.0  LTEXPC_2.0  LTEXPC_3.0  \\\n",
       "0       1  ...           0           0           0           1           0   \n",
       "1       0  ...           0           0           1           0           0   \n",
       "2       0  ...           0           1           0           0           0   \n",
       "3       0  ...           0           0           0           1           0   \n",
       "4       0  ...           0           0           0           0           0   \n",
       "\n",
       "   LTEXPC_4.0  WINTYP_1  WINTYP_2  WINTYP_3  WINTYP_4  \n",
       "0           0         0         1         0         0  \n",
       "1           0         1         0         0         0  \n",
       "2           1         0         1         0         0  \n",
       "3           0         0         1         0         0  \n",
       "4           1         0         1         0         0  \n",
       "\n",
       "[5 rows x 419 columns]"
      ]
     },
     "execution_count": 3,
     "metadata": {},
     "output_type": "execute_result"
    }
   ],
   "source": [
    "data_cbecs_final.head()"
   ]
  },
  {
   "cell_type": "markdown",
   "id": "f94c95bc",
   "metadata": {},
   "source": [
    "#### Using Cross Validation to find the optimal random forest"
   ]
  },
  {
   "cell_type": "code",
   "execution_count": 4,
   "id": "e3d592cc",
   "metadata": {},
   "outputs": [],
   "source": [
    "SEED = 75\n",
    "\n",
    "train_data, test_data = train_test_split(data_cbecs_final, test_size=0.25, random_state=SEED)\n",
    "y_train = train_data['EL Intensity']\n",
    "x_train = train_data.drop(columns=['EL Intensity','FINALWT'])\n",
    "weight_train = train_data['FINALWT']\n",
    "weight_train.fillna(0,inplace=True) #assign 0 weights to null for weights\n",
    "x_train.fillna(-100,inplace=True) # assing negative values to null in train data for easy identification"
   ]
  },
  {
   "cell_type": "code",
   "execution_count": 5,
   "id": "bcaead7a",
   "metadata": {},
   "outputs": [
    {
     "name": "stdout",
     "output_type": "stream",
     "text": [
      "depth 1\n",
      "score 0.1638306525853899\n",
      "depth 2\n",
      "score 0.23250407417639618\n",
      "depth 3\n",
      "score 0.330820828759418\n",
      "depth 4\n",
      "score 0.38395764436990404\n",
      "depth 5\n",
      "score 0.39569845661955105\n",
      "depth 6\n",
      "score 0.4082475656076242\n",
      "depth 7\n",
      "score 0.4209038510345568\n",
      "depth 8\n",
      "score 0.42680207453103575\n",
      "depth 9\n",
      "score 0.43688747706058634\n",
      "depth 10\n",
      "score 0.4367656715800946\n",
      "optimal depth 9\n",
      "optimal score 0.43688747706058634\n"
     ]
    }
   ],
   "source": [
    "# the following code finds the optimal depth as the hyperparameter for optimal random forest construction\n",
    "i=1\n",
    "score = 0\n",
    "while True:\n",
    "    model = RandomForestRegressor(n_estimators=100,max_depth=i, min_samples_split=30, min_samples_leaf = 30)\n",
    "    scores = cross_val_score(model,x_train,y_train,cv=5,fit_params={'sample_weight':weight_train})\n",
    "    score_new = scores.mean()\n",
    "    print(f\"depth {i}\")\n",
    "    print(f\"score {score_new}\")\n",
    "    if score < score_new:\n",
    "        score = score_new\n",
    "        i=i+1\n",
    "    else:\n",
    "        break\n",
    "        \n",
    "optimal_depth = i-1\n",
    "print(f\"optimal depth {optimal_depth}\")\n",
    "print (f\"optimal score {score}\")"
   ]
  },
  {
   "cell_type": "code",
   "execution_count": 7,
   "id": "fc1e31a4",
   "metadata": {},
   "outputs": [],
   "source": [
    "#prepare test data\n",
    "y_test = test_data['EL Intensity']\n",
    "x_test = test_data.drop(columns = ['EL Intensity', 'FINALWT'])\n",
    "\n",
    "x_test.fillna(-100,inplace=True)\n",
    "\n",
    "weight_test = test_data['FINALWT']\n",
    "weight_test.fillna(0,inplace=True)\n"
   ]
  },
  {
   "cell_type": "code",
   "execution_count": 8,
   "id": "10ac5f7f",
   "metadata": {},
   "outputs": [
    {
     "name": "stdout",
     "output_type": "stream",
     "text": [
      "score on test data 0.4836954013915151\n"
     ]
    }
   ],
   "source": [
    "#create the optimal random forest\n",
    "optimal_model = RandomForestRegressor(n_estimators=100,min_samples_split=30,min_samples_leaf=30)\n",
    "optimal_model.fit(x_train,y_train,sample_weight=weight_train)\n",
    "y_test_pred = optimal_model.predict(x_test)\n",
    "score_test = r2_score(y_test,y_test_pred,sample_weight=weight_test)\n",
    "\n",
    "print(f\"score on test data {score_test}\")"
   ]
  },
  {
   "cell_type": "code",
   "execution_count": 13,
   "id": "7a75ce5f",
   "metadata": {},
   "outputs": [],
   "source": [
    "# calculate the relative importance of features\n",
    "feature_importance = len(list(optimal_model.feature_importances_))\n",
    "feature_importance_dict = dict(zip(list(x_train.columns),list(optimal_model.feature_importances_)))\n",
    "material_features = {k:v for k,v in feature_importance_dict.items() if v > 0.005 }\n",
    "sorted_dict = dict(sorted(material_features.items(),key=lambda x: x[1]))"
   ]
  },
  {
   "cell_type": "code",
   "execution_count": 14,
   "id": "abe78342",
   "metadata": {},
   "outputs": [
    {
     "data": {
      "image/png": "[encoded data removed]",
      "text/plain": [
       "<Figure size 432x432 with 1 Axes>"
      ]
     },
     "metadata": {
      "needs_background": "light"
     },
     "output_type": "display_data"
    }
   ],
   "source": [
    "#plot feature importance \n",
    "w = 6\n",
    "h = 6\n",
    "fig = plt.figure(figsize=(w,h))\n",
    "ax= fig.add_subplot(111)\n",
    "plt.subplots_adjust(bottom=0.25)\n",
    "x=sorted_dict.keys()\n",
    "y=sorted_dict.values()\n",
    "ax.bar(x,y)\n",
    "ax.set_xticks(range(len(x)))\n",
    "ax.set_xticklabels(x,rotation=90)\n",
    "plt.show()"
   ]
  },
  {
   "cell_type": "code",
   "execution_count": null,
   "id": "6030e31b",
   "metadata": {},
   "outputs": [],
   "source": []
  }
 ],
 "metadata": {
  "kernelspec": {
   "display_name": "Python 3 (ipykernel)",
   "language": "python",
   "name": "python3"
  },
  "language_info": {
   "codemirror_mode": {
    "name": "ipython",
    "version": 3
   },
   "file_extension": ".py",
   "mimetype": "text/x-python",
   "name": "python",
   "nbconvert_exporter": "python",
   "pygments_lexer": "ipython3",
   "version": "3.9.12"
  }
 },
 "nbformat": 4,
 "nbformat_minor": 5
}
