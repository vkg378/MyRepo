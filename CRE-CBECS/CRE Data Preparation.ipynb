{
 "cells": [
  {
   "cell_type": "markdown",
   "id": "3d24ca41",
   "metadata": {},
   "source": [
    "#### Import Packages"
   ]
  },
  {
   "cell_type": "code",
   "execution_count": 4,
   "id": "dc13f516",
   "metadata": {},
   "outputs": [],
   "source": [
    "import pandas as pd\n",
    "import numpy as np\n",
    "import re"
   ]
  },
  {
   "cell_type": "markdown",
   "id": "a204cb7e",
   "metadata": {},
   "source": [
    "#### Loading and cleaning up data and remove unnecessary features"
   ]
  },
  {
   "cell_type": "code",
   "execution_count": 5,
   "id": "6d4f680e",
   "metadata": {},
   "outputs": [],
   "source": [
    "#load cbecs data\n",
    "data_cbecs = pd.read_csv('cbecs2018_final_public.csv')\n",
    "#load data definitions including column name definitions\n",
    "data_def_cbecs = pd.read_excel('2018microdata_codebook.xlsx',skiprows=1)"
   ]
  },
  {
   "cell_type": "code",
   "execution_count": 6,
   "id": "0f72d7ee",
   "metadata": {},
   "outputs": [
    {
     "data": {
      "text/plain": [
       "(6436, 1249)"
      ]
     },
     "execution_count": 6,
     "metadata": {},
     "output_type": "execute_result"
    }
   ],
   "source": [
    "#cbecs data has 6436 rows and 1249 features\n",
    "data_cbecs.shape"
   ]
  },
  {
   "cell_type": "code",
   "execution_count": 102,
   "id": "dd5267f4",
   "metadata": {},
   "outputs": [],
   "source": [
    "#create a copy of cbecs data\n",
    "data_cbecs_mod = data_cbecs.copy(deep=True)"
   ]
  },
  {
   "cell_type": "code",
   "execution_count": 103,
   "id": "929301b6",
   "metadata": {},
   "outputs": [],
   "source": [
    "# adding Intensity variable as y variable\n",
    "data_cbecs_mod['EL Intensity'] = data_cbecs_mod['ELBTU']/data_cbecs_mod['SQFT']"
   ]
  },
  {
   "cell_type": "code",
   "execution_count": 104,
   "id": "7de72798",
   "metadata": {},
   "outputs": [],
   "source": [
    "#modifying the column names in data def to remove \\n string\n",
    "data_def_cbecs.rename(columns=lambda x:x.replace('\\n',' '),inplace=True)"
   ]
  },
  {
   "cell_type": "code",
   "execution_count": 105,
   "id": "d4148428",
   "metadata": {},
   "outputs": [],
   "source": [
    "#find columns with intermediate weight and imputation information. These columns are irrelevant and can be dropped\n",
    "mask_for_col_drop = data_def_cbecs['Label'].str.contains('Weight|Imputation').fillna(False)\n",
    "candidate_cols_to_drop = list(data_def_cbecs.loc[mask_for_col_drop]['Variable name'])\n",
    "#making sure that final weight columns are not dropped\n",
    "candidate_cols_to_drop.remove('FINALWT')\n",
    "candidate_cols_to_drop.append('PUBID')\n",
    "cols_to_drop = list(set(candidate_cols_to_drop) & set(data_cbecs.columns))"
   ]
  },
  {
   "cell_type": "code",
   "execution_count": 106,
   "id": "bdfd05f0",
   "metadata": {},
   "outputs": [],
   "source": [
    "#drop columns\n",
    "data_cbecs_mod.drop(cols_to_drop,axis=1,inplace=True)"
   ]
  },
  {
   "cell_type": "code",
   "execution_count": 107,
   "id": "3752e4b2",
   "metadata": {},
   "outputs": [
    {
     "data": {
      "text/plain": [
       "(6436, 621)"
      ]
     },
     "execution_count": 107,
     "metadata": {},
     "output_type": "execute_result"
    }
   ],
   "source": [
    "# more than half the columns are dropped resulting in 6436 rows and 620 columns\n",
    "data_cbecs_mod.shape"
   ]
  },
  {
   "cell_type": "code",
   "execution_count": 108,
   "id": "6c279695",
   "metadata": {},
   "outputs": [],
   "source": [
    "list_cols = list(data_cbecs_mod.columns)\n",
    "exp_vars = [x for x in list_cols if bool(re.findall('(EL|MF|NG|DH|FK).*(BTU|CNS|EXP)',x))]"
   ]
  },
  {
   "cell_type": "code",
   "execution_count": 109,
   "id": "7d75cb3d",
   "metadata": {},
   "outputs": [],
   "source": [
    "data_cbecs_mod.drop(exp_vars,axis=1,inplace=True)"
   ]
  },
  {
   "cell_type": "code",
   "execution_count": 110,
   "id": "769c74f1",
   "metadata": {},
   "outputs": [
    {
     "data": {
      "text/plain": [
       "(6436, 573)"
      ]
     },
     "execution_count": 110,
     "metadata": {},
     "output_type": "execute_result"
    }
   ],
   "source": [
    "data_cbecs_mod.shape"
   ]
  },
  {
   "cell_type": "code",
   "execution_count": 111,
   "id": "f99b046b",
   "metadata": {},
   "outputs": [],
   "source": [
    "#drop Intensity from potential x variables\n",
    "x_vars_pot = data_cbecs_mod.columns.drop('EL Intensity')"
   ]
  },
  {
   "cell_type": "markdown",
   "id": "9813d9a2",
   "metadata": {},
   "source": [
    "#### Cleaning up further to select only features with low rates of null values"
   ]
  },
  {
   "cell_type": "code",
   "execution_count": 112,
   "id": "a6cf3bf9",
   "metadata": {},
   "outputs": [],
   "source": [
    "list_per_missing = []\n",
    "for x in x_vars_pot:\n",
    "    missing_per = sum(~data_cbecs_mod[x].notnull())/data_cbecs_mod[x].shape[0] + data_cbecs_mod[data_cbecs_mod[x]=='Missing'].shape[0]/data_cbecs_mod[x].shape[0]\n",
    "    list_per_missing.append(missing_per)\n",
    "    \n",
    "x_missing_per = dict(zip(x_vars_pot,list_per_missing))"
   ]
  },
  {
   "cell_type": "code",
   "execution_count": 113,
   "id": "26979ae6",
   "metadata": {},
   "outputs": [],
   "source": [
    "x_missing_low = [key for key,value in x_missing_per.items() if value <= 0.10 ]"
   ]
  },
  {
   "cell_type": "code",
   "execution_count": 114,
   "id": "c0a784ea",
   "metadata": {},
   "outputs": [
    {
     "data": {
      "text/plain": [
       "206"
      ]
     },
     "execution_count": 114,
     "metadata": {},
     "output_type": "execute_result"
    }
   ],
   "source": [
    "len(x_missing_low)"
   ]
  },
  {
   "cell_type": "code",
   "execution_count": 115,
   "id": "3f8c740c",
   "metadata": {},
   "outputs": [],
   "source": [
    "#mask for getting only those features that have low rates of nulls\n",
    "mask = data_def_cbecs['Variable name'].isin(x_missing_low)"
   ]
  },
  {
   "cell_type": "code",
   "execution_count": 116,
   "id": "4c518d00",
   "metadata": {},
   "outputs": [],
   "source": [
    "# for easy reference, create a dictionary with Variable names as key and possible values as value\n",
    "var_vals = dict(zip(data_def_cbecs[mask]['Variable name'], data_def_cbecs[mask]['Values/Format codes']))\n",
    "# for easy reference, create a dictionary with Variables names as key and Variable Label (def) as value\n",
    "var_def = dict(zip(data_def_cbecs[mask]['Variable name'], data_def_cbecs[mask]['Label']))"
   ]
  },
  {
   "cell_type": "code",
   "execution_count": 118,
   "id": "0475e329",
   "metadata": {},
   "outputs": [],
   "source": [
    "# remove all columns except one with low nulls and one contating y variable 'EL Intensity'\n",
    "cols_to_drop = set(data_cbecs_mod.columns) - set(var_vals.keys()) - {'EL Intensity'}"
   ]
  },
  {
   "cell_type": "code",
   "execution_count": 119,
   "id": "6d489ba7",
   "metadata": {},
   "outputs": [],
   "source": [
    "data_cbecs_mod.drop(columns=cols_to_drop,inplace=True)"
   ]
  },
  {
   "cell_type": "code",
   "execution_count": 120,
   "id": "df902316",
   "metadata": {},
   "outputs": [
    {
     "data": {
      "text/plain": [
       "(6436, 207)"
      ]
     },
     "execution_count": 120,
     "metadata": {},
     "output_type": "execute_result"
    }
   ],
   "source": [
    "data_cbecs_mod.shape"
   ]
  },
  {
   "cell_type": "code",
   "execution_count": 121,
   "id": "ea428dce",
   "metadata": {},
   "outputs": [],
   "source": [
    "#ensuring that FINALWT key does not have null values\n",
    "var_vals['FINALWT']='0-1000000'"
   ]
  },
  {
   "cell_type": "markdown",
   "id": "d12dac64",
   "metadata": {},
   "source": [
    "#### Assigning Variables into 3 categories : (i)non-binary and non-categoricals (ii)binary, and (iii) categoricals"
   ]
  },
  {
   "cell_type": "code",
   "execution_count": 122,
   "id": "2d1a04f5",
   "metadata": {},
   "outputs": [],
   "source": [
    "non_bin_cat_vars = ['SQFT', 'GLSSPC','NFLOOR','FLCEILHT','YRCONC','NOCC','WKHRS','WKHRSC','NWKER',\n",
    "                    'NWKERC','HEATP','COOLP','LTOHRP','LTNHRP','DAYLTP','HDD65','CDD65','FINALWT','EL Intensity']\n",
    "\n",
    "#creating a dict of non-binary/non-cat variables with potential values as value. \n",
    "#There are 18 variables including weights.\n",
    "non_bin_cat_vars_dict ={k:v for k,v in var_vals.items() if k in non_bin_cat_vars}\n",
    "#find binary variables\n",
    "bin_vars = [k for k,v in var_vals.items() if len(list(re.findall('(\\d+)=',v)))== 2 and k not in non_bin_cat_vars]\n",
    "#dictionary of binary variables\n",
    "bin_vars_dict = {k:v for k,v in var_vals.items() if k in bin_vars}\n",
    "#non-binary categorical variables\n",
    "cat_vars = [k for k,v in var_vals.items() if k not in non_bin_cat_vars and k not in bin_vars]\n",
    "#non-binary categorical variables dict\n",
    "cat_vars_dict = {k:v for k,v in var_vals.items() if k in cat_vars}\n"
   ]
  },
  {
   "cell_type": "code",
   "execution_count": 123,
   "id": "b757a9a3",
   "metadata": {},
   "outputs": [
    {
     "data": {
      "text/plain": [
       "21"
      ]
     },
     "execution_count": 123,
     "metadata": {},
     "output_type": "execute_result"
    }
   ],
   "source": [
    "len(cat_vars_dict)"
   ]
  },
  {
   "cell_type": "code",
   "execution_count": 124,
   "id": "55294c2e",
   "metadata": {},
   "outputs": [],
   "source": [
    "#dict to replace 2 (meaning False) as 0 in binary variables\n",
    "bin_vars_replace_2_as_0_dict = {k:2 for k in bin_vars}\n",
    "data_cbecs_mod.replace(bin_vars_replace_2_as_0_dict,0,inplace=True)"
   ]
  },
  {
   "cell_type": "code",
   "execution_count": 125,
   "id": "8f6ed167",
   "metadata": {},
   "outputs": [
    {
     "data": {
      "text/plain": [
       "(6436, 207)"
      ]
     },
     "execution_count": 125,
     "metadata": {},
     "output_type": "execute_result"
    }
   ],
   "source": [
    "# the cleaned up data set has 6436 observations and 206 features\n",
    "data_cbecs_mod.shape"
   ]
  },
  {
   "cell_type": "markdown",
   "id": "91536434",
   "metadata": {},
   "source": [
    "### Finalizing data with dummies (one-hot encoding) and final clean up"
   ]
  },
  {
   "cell_type": "code",
   "execution_count": 126,
   "id": "98483354",
   "metadata": {},
   "outputs": [],
   "source": [
    "data_cbecs_with_dummies = pd.get_dummies(data=data_cbecs_mod,columns=cat_vars)"
   ]
  },
  {
   "cell_type": "code",
   "execution_count": 129,
   "id": "07924c8a",
   "metadata": {},
   "outputs": [
    {
     "data": {
      "text/plain": [
       "(6436, 419)"
      ]
     },
     "execution_count": 129,
     "metadata": {},
     "output_type": "execute_result"
    }
   ],
   "source": [
    "data_cbecs_with_dummies.shape"
   ]
  },
  {
   "cell_type": "code",
   "execution_count": 133,
   "id": "d6b430ad",
   "metadata": {},
   "outputs": [],
   "source": [
    "#drop null y values\n",
    "mask_for_null_y = data_cbecs_with_dummies['EL Intensity'].isna()\n",
    "data_cbecs_with_dummies = data_cbecs_with_dummies[~mask_for_null_y]"
   ]
  },
  {
   "cell_type": "code",
   "execution_count": 134,
   "id": "c5cc24a8",
   "metadata": {},
   "outputs": [],
   "source": [
    "data_cbecs_final = data_cbecs_with_dummies.copy(deep = True)"
   ]
  },
  {
   "cell_type": "code",
   "execution_count": 136,
   "id": "af1bcda4",
   "metadata": {},
   "outputs": [
    {
     "data": {
      "text/plain": [
       "(6357, 419)"
      ]
     },
     "execution_count": 136,
     "metadata": {},
     "output_type": "execute_result"
    }
   ],
   "source": [
    "data_cbecs_final.shape"
   ]
  },
  {
   "cell_type": "code",
   "execution_count": 137,
   "id": "63a50b52",
   "metadata": {},
   "outputs": [],
   "source": [
    "data_cbecs_final.to_excel('data_cbecs_final.xlsx',index=False)"
   ]
  },
  {
   "cell_type": "code",
   "execution_count": null,
   "id": "924a0493",
   "metadata": {},
   "outputs": [],
   "source": []
  }
 ],
 "metadata": {
  "kernelspec": {
   "display_name": "Python 3 (ipykernel)",
   "language": "python",
   "name": "python3"
  },
  "language_info": {
   "codemirror_mode": {
    "name": "ipython",
    "version": 3
   },
   "file_extension": ".py",
   "mimetype": "text/x-python",
   "name": "python",
   "nbconvert_exporter": "python",
   "pygments_lexer": "ipython3",
   "version": "3.9.12"
  }
 },
 "nbformat": 4,
 "nbformat_minor": 5
}
